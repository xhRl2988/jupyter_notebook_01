{
 "cells": [
  {
   "cell_type": "code",
   "execution_count": 1,
   "id": "f408c358-ca79-4675-bc60-da3e34a7701f",
   "metadata": {},
   "outputs": [
    {
     "name": "stdout",
     "output_type": "stream",
     "text": [
      "성일정보고등학교\n"
     ]
    }
   ],
   "source": [
    "print('성일정보고등학교')"
   ]
  },
  {
   "cell_type": "code",
   "execution_count": 2,
   "id": "5b22f056-dfa2-42d4-86d6-e95d3c2b855f",
   "metadata": {},
   "outputs": [
    {
     "name": "stdout",
     "output_type": "stream",
     "text": [
      "성일정보고등학교소프트웨어개발과\n"
     ]
    }
   ],
   "source": [
    "print(\"성일정보고등학교\"+\"소프트웨어개발과\")"
   ]
  },
  {
   "cell_type": "code",
   "execution_count": 3,
   "id": "3410fead-5d36-4cf7-83ec-26eaacc6f916",
   "metadata": {},
   "outputs": [
    {
     "name": "stdout",
     "output_type": "stream",
     "text": [
      "성일성일성일성일성일성일성일성일성일성일\n"
     ]
    }
   ],
   "source": [
    "print('성일'*10)\n"
   ]
  },
  {
   "cell_type": "code",
   "execution_count": 4,
   "id": "6d66c6c9-6530-4709-8a6d-078b665a27e1",
   "metadata": {},
   "outputs": [
    {
     "name": "stdout",
     "output_type": "stream",
     "text": [
      "==============================\n",
      "성일정보고등학교 소프트웨어개발과\n",
      "==============================\n"
     ]
    }
   ],
   "source": [
    "print('='*30)\n",
    "print('성일정보고등학교 소프트웨어개발과')\n",
    "print('='*30)\n"
   ]
  },
  {
   "cell_type": "code",
   "execution_count": 5,
   "id": "d0e3bbc7-da2f-45b6-ae44-6104a3f0312c",
   "metadata": {},
   "outputs": [
    {
     "name": "stdout",
     "output_type": "stream",
     "text": [
      "==============================\n",
      "성일정보고등학교 \n",
      "소프트웨어개발과\n",
      "==============================\n"
     ]
    }
   ],
   "source": [
    "print('='*30)\n",
    "print('성일정보고등학교 \\n소프트웨어개발과')\n",
    "print('='*30)"
   ]
  },
  {
   "cell_type": "code",
   "execution_count": 6,
   "id": "dc20b024-23f1-4369-9fe3-c0fd4ee00fe2",
   "metadata": {},
   "outputs": [
    {
     "name": "stdout",
     "output_type": "stream",
     "text": [
      "==============================\n",
      "\t성일정보고등학교 \n",
      "소프트웨어개발과\n",
      "==============================\n"
     ]
    }
   ],
   "source": [
    "print('='*30)\n",
    "print('\\t성일정보고등학교 \\n소프트웨어개발과')\n",
    "print('='*30)"
   ]
  },
  {
   "cell_type": "code",
   "execution_count": 7,
   "id": "8b0c26de-399f-45b3-bf14-802d9dc563a7",
   "metadata": {},
   "outputs": [
    {
     "name": "stdout",
     "output_type": "stream",
     "text": [
      "성일정보고등학교\n"
     ]
    }
   ],
   "source": [
    "i='성일'\n",
    "j='정보고등학교'\n",
    "print(i+j)"
   ]
  },
  {
   "cell_type": "code",
   "execution_count": 8,
   "id": "ae3d2893-0c2d-4dba-8bc5-4324f2218994",
   "metadata": {},
   "outputs": [
    {
     "name": "stdin",
     "output_type": "stream",
     "text": [
      "이름을 입력하세요:  김현수\n"
     ]
    },
    {
     "name": "stdout",
     "output_type": "stream",
     "text": [
      "김현수\n"
     ]
    }
   ],
   "source": [
    "name=input('이름을 입력하세요: ')\n",
    "print (name)"
   ]
  },
  {
   "cell_type": "code",
   "execution_count": 9,
   "id": "06479452-e89a-4024-9776-b34f600bffbf",
   "metadata": {},
   "outputs": [],
   "source": [
    "x=input"
   ]
  },
  {
   "cell_type": "code",
   "execution_count": 10,
   "id": "e64acd11-8725-4785-8e11-8c2d15dd6639",
   "metadata": {},
   "outputs": [
    {
     "ename": "TypeError",
     "evalue": "unsupported operand type(s) for +: 'method' and 'method'",
     "output_type": "error",
     "traceback": [
      "\u001b[1;31m---------------------------------------------------------------------------\u001b[0m",
      "\u001b[1;31mTypeError\u001b[0m                                 Traceback (most recent call last)",
      "Cell \u001b[1;32mIn[10], line 3\u001b[0m\n\u001b[0;32m      1\u001b[0m x\u001b[38;5;241m=\u001b[39m\u001b[38;5;28minput\u001b[39m\n\u001b[0;32m      2\u001b[0m y\u001b[38;5;241m=\u001b[39m\u001b[38;5;28minput\u001b[39m\n\u001b[1;32m----> 3\u001b[0m \u001b[38;5;28mprint\u001b[39m(\u001b[43mx\u001b[49m\u001b[38;5;241;43m+\u001b[39;49m\u001b[43my\u001b[49m)\n",
      "\u001b[1;31mTypeError\u001b[0m: unsupported operand type(s) for +: 'method' and 'method'"
     ]
    }
   ],
   "source": [
    "1\n"
   ]
  },
  {
   "cell_type": "markdown",
   "id": "209c540b-fc6e-4d59-a8b6-b829a3f4f7a6",
   "metadata": {},
   "source": [
    "### x=input('성일 :')\n",
    "y=input('정보고등학교 :')\n",
    "print(x+y)\n"
   ]
  },
  {
   "cell_type": "code",
   "execution_count": null,
   "id": "13360575-184e-456d-adb0-d7135dc9dd19",
   "metadata": {},
   "outputs": [],
   "source": [
    "x=input()\n",
    "y=input()\n",
    "print(x+y)"
   ]
  },
  {
   "cell_type": "code",
   "execution_count": null,
   "id": "397c7f30-7744-4737-9204-3427b1c7d89d",
   "metadata": {},
   "outputs": [],
   "source": [
    "print ('1')"
   ]
  },
  {
   "cell_type": "code",
   "execution_count": null,
   "id": "5df66641-66d6-48b9-b0f7-cf983c290f7a",
   "metadata": {},
   "outputs": [],
   "source": [
    "name1=input('학번을 입력하세요: ')\n",
    "name2=input('이름을 입력하세요: ')\n",
    "print(name1+name2)"
   ]
  },
  {
   "cell_type": "code",
   "execution_count": null,
   "id": "e29f3432-387a-4243-aa31-8d51781dd744",
   "metadata": {},
   "outputs": [],
   "source": [
    "name1=input('학번을 입력하세요: ')\n",
    "name2=input('이름을 입력하세요: ')\n",
    "print(name1+name2)"
   ]
  },
  {
   "cell_type": "code",
   "execution_count": null,
   "id": "4f8eff6e-f001-40d2-a6fa-eb62f53aff14",
   "metadata": {},
   "outputs": [],
   "source": [
    "name1=input('학번을 입력하세요: ')\n",
    "name2=input('이름을 입력하세요: ')\n",
    "print(name1+name2)"
   ]
  },
  {
   "cell_type": "code",
   "execution_count": null,
   "id": "c8af59ba-4c24-4be7-b1a2-2d39593c4b69",
   "metadata": {},
   "outputs": [],
   "source": [
    "name1=input('학번을 입력하세요: ')\n",
    "name2=input('이름을 입력하세요: ')\n",
    "print(name1+name2)"
   ]
  },
  {
   "cell_type": "code",
   "execution_count": null,
   "id": "8dfaed45-232a-4d81-b646-b6b2ffeaf0d3",
   "metadata": {},
   "outputs": [],
   "source": [
    "name1=input('학번을 입력하세요: ')\n",
    "name2=input('이름을 입력하세요: ')\n",
    "print(name1+name2)"
   ]
  },
  {
   "cell_type": "code",
   "execution_count": null,
   "id": "ae105ede-b5b2-4bd6-bab1-d577f12c0567",
   "metadata": {},
   "outputs": [],
   "source": [
    "\n",
    "\n",
    "\n"
   ]
  },
  {
   "cell_type": "code",
   "execution_count": 11,
   "id": "fd3c9081-927d-4dcd-b1be-83e91e9553d4",
   "metadata": {},
   "outputs": [
    {
     "name": "stdin",
     "output_type": "stream",
     "text": [
      "학번을 입력하세요:  31103\n",
      "이름을 입력하세요:  김현수\n"
     ]
    },
    {
     "name": "stdout",
     "output_type": "stream",
     "text": [
      "31103김현수\n"
     ]
    }
   ],
   "source": [
    "name1=input('학번을 입력하세요: ')\n",
    "name2=input('이름을 입력하세요: ')\n",
    "print(name1+name2)"
   ]
  },
  {
   "cell_type": "code",
   "execution_count": 12,
   "id": "9c7f1bfa-f324-4ca3-82fb-07e4de07327a",
   "metadata": {},
   "outputs": [
    {
     "ename": "SyntaxError",
     "evalue": "invalid syntax (4270015381.py, line 1)",
     "output_type": "error",
     "traceback": [
      "\u001b[1;36m  Cell \u001b[1;32mIn[12], line 1\u001b[1;36m\u001b[0m\n\u001b[1;33m    name1=int{input('학번을 입력하세요: ')}\u001b[0m\n\u001b[1;37m             ^\u001b[0m\n\u001b[1;31mSyntaxError\u001b[0m\u001b[1;31m:\u001b[0m invalid syntax\n"
     ]
    }
   ],
   "source": [
    "name1=int{input('학번을 입력하세요: ')}\n",
    "name2=int{input('이름을 입력하세요: ')}\n",
    "print(name1+name2)"
   ]
  },
  {
   "cell_type": "code",
   "execution_count": 14,
   "id": "06e1e39c-95a2-4fe9-86aa-34c21518fd4d",
   "metadata": {},
   "outputs": [
    {
     "name": "stdin",
     "output_type": "stream",
     "text": [
      "학번을 입력하세요:  100\n",
      "이름을 입력하세요:  200\n"
     ]
    },
    {
     "name": "stdout",
     "output_type": "stream",
     "text": [
      "300\n"
     ]
    }
   ],
   "source": [
    "name1=int(input('학번을 입력하세요: '))\n",
    "name2=int(input('이름을 입력하세요: '))\n",
    "print(name1+name2)"
   ]
  },
  {
   "cell_type": "code",
   "execution_count": 15,
   "id": "ef4944d4-7de9-47b0-aaed-00aa7bd88ec2",
   "metadata": {},
   "outputs": [
    {
     "name": "stdout",
     "output_type": "stream",
     "text": [
      "==============================\n"
     ]
    },
    {
     "name": "stdin",
     "output_type": "stream",
     "text": [
      "학번:  31103\n",
      "이름:  김현수\n"
     ]
    }
   ],
   "source": [
    "print('='*30)\n",
    "name1=input('학번: ')\n",
    "name2=input('이름: ')"
   ]
  },
  {
   "cell_type": "code",
   "execution_count": null,
   "id": "7115b284-29d6-4406-ae61-ca1050f2e3f2",
   "metadata": {},
   "outputs": [],
   "source": [
    "print('='*30)\n",
    "name1=input('학번: ')\n",
    "name2=input('이름: ')\n",
    "x=in"
   ]
  }
 ],
 "metadata": {
  "kernelspec": {
   "display_name": "Python 3 (ipykernel)",
   "language": "python",
   "name": "python3"
  },
  "language_info": {
   "codemirror_mode": {
    "name": "ipython",
    "version": 3
   },
   "file_extension": ".py",
   "mimetype": "text/x-python",
   "name": "python",
   "nbconvert_exporter": "python",
   "pygments_lexer": "ipython3",
   "version": "3.10.7"
  }
 },
 "nbformat": 4,
 "nbformat_minor": 5
}
